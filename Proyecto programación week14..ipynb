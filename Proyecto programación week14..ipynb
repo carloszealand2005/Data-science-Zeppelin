﻿{
  "metadata": {
    "name": "Proyecto programación week14",
    "kernelspec": {
      "language": "scala",
      "name": "spark2-scala"
    },
    "language_info": {
      "codemirror_mode": "text/x-scala",
      "file_extension": ".scala",
      "mimetype": "text/x-scala",
      "name": "scala",
      "pygments_lexer": "scala"
    }
  },
  "nbformat": 4,
  "nbformat_minor": 2,
  "cells": [
    {
      "cell_type": "code",
      "execution_count": 0,
      "metadata": {
        "autoscroll": "auto"
      },
      "outputs": [],
      "source": "%spark\n\nimport org.apache.spark.sql.types.StringType\nimport org.apache.spark.sql.functions._\nspark.conf.set(\"spark.sql.legacy.allowUntypedScalaUDF\", \"true\")\n\nval data \u003d spark\n.read\n.option(\"inferSchema\", \"true\")\n.option(\"header\", \"true\")\n.option(\"delimiter\", \",\")\n.csv(\"/home/carlos/Descargas/PhiUSIIL_Phishing_URL_Dataset.csv\")"
    },
    {
      "cell_type": "code",
      "execution_count": 1,
      "metadata": {
        "autoscroll": "auto"
      },
      "outputs": [],
      "source": "%spark\ndata.printSchema()"
    },
    {
      "cell_type": "code",
      "execution_count": 2,
      "metadata": {
        "autoscroll": "auto"
      },
      "outputs": [],
      "source": "%spark\n\ndef getSecurityCategory(\n    IsHTTPS: Int, HasTitle: Int, Robots: Int, HasCopyrightInfo: Int, HasObfuscation: Int, NoOfURLRedirect: Int,\n    NoOfPopup: Int, NoOfiFrame: Int, HasExternalFormSubmit: Int, HasPasswordField: Int, Bank: Int, Pay: Int, Crypto: Int,\n    URLCharProb: Double, URLLength: Int, NoOfSubDomain: Int\n): String \u003d {\n\n    var score \u003d 0 \n\n    // Características que suman puntos a favor\n    if (IsHTTPS \u003d\u003d 1) score +\u003d 3\n    if (HasTitle \u003d\u003d 1) score +\u003d 2\n    if (Robots \u003d\u003d 1) score +\u003d 1\n    if (HasCopyrightInfo \u003d\u003d 1) score +\u003d 3\n\n    // Características que restan puntos a favor\n    if (HasObfuscation \u003d\u003d 1) score -\u003d 2\n    if (NoOfURLRedirect \u003e 0) score -\u003d 2\n    if (NoOfPopup \u003e 0) score -\u003d 3\n    if (NoOfiFrame \u003e 0) score -\u003d 1\n    if (HasExternalFormSubmit \u003d\u003d 1) score -\u003d 2\n    if (HasPasswordField \u003d\u003d 0 \u0026\u0026 (Bank \u003d\u003d 1 || Pay \u003d\u003d 1 || Crypto \u003d\u003d 1)) score -\u003d 4 // Si no necesita password, pero si banco, pago o cripto, restar varios puntos\n    if (URLCharProb \u003c 0.5) score -\u003d 2\n\n    // COnsideraciones mínimas que restan puntos a favor.\n    if (URLLength \u003e 100) score -\u003d 1\n    if (NoOfSubDomain \u003e 3) score -\u003d 1\n\n    // Definir los rangos y retornar la categoría\n    score match {\n        case s if s \u003e\u003d 5 \u003d\u003e \"HIGH\"       \n        case s if s \u003e\u003d 0 \u0026\u0026 s \u003c 5 \u003d\u003e \"MEDIUM\"   \n        case s if s \u003e\u003d -5 \u0026\u0026 s \u003c 0 \u003d\u003e \"LOW\"     \n        case s if s \u003c -5 \u003d\u003e \"VERY LOW\"   \n        case _ \u003d\u003e \"UNDEFINED\"              \n    }\n}\n\n// Crear función UDF para que pueda ser usada en cada iteración: \nval getSecurityCategoryUdf \u003d udf(getSecurityCategory(\n    _: Int, _: Int, _: Int, _: Int, _: Int, _: Int, _: Int, _: Int,\n    _: Int, _: Int, _: Int, _: Int, _: Int, _: Double, _: Int, _: Int\n), StringType)"
    },
    {
      "cell_type": "code",
      "execution_count": 3,
      "metadata": {
        "autoscroll": "auto"
      },
      "outputs": [],
      "source": "%spark\n\ndef getUrlComplexity(NoOfSubDomain : Int, URLLength : Int, NoOfOtherSpecialCharsInURL : Int, SpacialCharRatioInURL : Double) : String \u003d {\n    val complexityScore \u003d (NoOfSubDomain * 1.5) + (URLLength * 0.1) + (NoOfOtherSpecialCharsInURL * 1.0) + (SpacialCharRatioInURL * 5.0)\n     complexityScore match {\n        case score if score \u003c 10 \u003d\u003e \"SIMPLE\"\n        case score if score \u003c 30 \u003d\u003e \"MEDIUM\"\n        case score if score \u003c 60 \u003d\u003e \"COMPLEX\"\n        case score if score \u003e\u003d 60 \u003d\u003e \"VERY COMPLEX\"\n        case _ \u003d\u003e \"UNDEFINED\" \n    }\n    \n}\n\n//Función UDF para que pueda ser usada en cada iteración\n\nval getUrlComplexityUdf \u003d udf(getUrlComplexity(\n    _: Int, _: Int, _: Int, _: Double), StringType)\n\n\n"
    },
    {
      "cell_type": "code",
      "execution_count": 4,
      "metadata": {
        "autoscroll": "auto"
      },
      "outputs": [],
      "source": "%spark\n\n\ndef getPresenceRatio(NoOfImage : Int, NoOfCSS : Int, NoOfJS : Int, LineOfCode : Int) : String \u003d {\n    \nval totalContentElements \u003d NoOfImage + NoOfCSS + NoOfJS\nval contentRatio \u003d if (LineOfCode \u003e 0) {\n    totalContentElements.toDouble / LineOfCode.toDouble \n}else{\n    0.0\n} \n\n  contentRatio match {\n        case ratio if ratio \u003c 0.05 \u003d\u003e \"VERY LOW\"\n        case ratio if ratio \u003c 0.2 \u003d\u003e \"LOW\"\n        case ratio if ratio \u003c 0.6 \u003d\u003e \"MEDIUM\"\n        case ratio if ratio \u003e\u003d 0.6 \u003d\u003e \"HIGH\"\n        case _ \u003d\u003e \"UNDEFINED\" \n    }\n\n}\n\n//Función UDF para que pueda ser usada en cada iteración\n\nval getPresenceRatioUdf \u003d udf(getPresenceRatio(\n    _: Int, _: Int, _: Int, _: Int), StringType)"
    },
    {
      "cell_type": "code",
      "execution_count": 5,
      "metadata": {
        "autoscroll": "auto"
      },
      "outputs": [],
      "source": "%spark\n/*\nPoblar la tabla con SecurityScore\n*/\nval dataWithSecurity \u003d data.withColumn(\n    \"SecurityCategory\",\n    getSecurityCategoryUdf(\n        col(\"IsHTTPS\"),\n        col(\"HasTitle\"),\n        col(\"Robots\"),\n        col(\"HasCopyrightInfo\"),\n        col(\"HasObfuscation\"),\n        col(\"NoOfURLRedirect\"),\n        col(\"NoOfPopup\"),\n        col(\"NoOfiFrame\"),\n        col(\"HasExternalFormSubmit\"),\n        col(\"HasPasswordField\"),\n        col(\"Bank\"),\n        col(\"Pay\"),\n        col(\"Crypto\"),\n        col(\"URLCharProb\"),\n        col(\"URLLength\"),\n        col(\"NoOfSubDomain\")\n    )\n)\n\ndataWithSecurity.select($\"URL\", $\"SecurityCategory\").show(false)"
    },
    {
      "cell_type": "code",
      "execution_count": 6,
      "metadata": {
        "autoscroll": "auto"
      },
      "outputs": [],
      "source": "%spark\n/*\nPoblar la tabla con URL complexity:\n*/\n\nval dataWithComplexityUrl \u003d data.withColumn(\n    \"UrlComplexity\",\n    getUrlComplexityUdf(\n        col(\"NoOfSubDomain\"),\n        col(\"URLLength\"),\n        col(\"NoOfOtherSpecialCharsInURL\"),\n        col(\"SpacialCharRatioInURL\"),\n    )\n)\n\ndataWithComplexityUrl.select($\"URL\", $\"UrlComplexity\").where($\"UrlComplexity\" \u003d\u003d\u003d \"VERY COMPLEX\").show(false)"
    },
    {
      "cell_type": "code",
      "execution_count": 7,
      "metadata": {
        "autoscroll": "auto"
      },
      "outputs": [],
      "source": "%spark\n/*\nPoblar la tabla con presencia de contenido\n*/\nval dataWithPresenceRatio \u003d data.withColumn(\n    \"PresenceRatio\",\n    getPresenceRatioUdf(\n        col(\"NoOfImage\"),\n        col(\"NoOfCSS\"),\n        col(\"NoOfJS\"),\n        col(\"LineOfCode\"),\n    )\n)\n\n\ndataWithPresenceRatio.select($\"URL\", $\"PresenceRatio\").show(false)\n"
    },
    {
      "cell_type": "code",
      "execution_count": 8,
      "metadata": {
        "autoscroll": "auto"
      },
      "outputs": [],
      "source": "%spark\n\ndata.select($\"Domain\") // Selecciona solo la columna \u0027Domain\u0027\n  .where(col(\"Domain\").endsWith(\".ec\")) // Filtra donde la columna \u0027Domain\u0027 contenga la subcadena \"ec\"\n  .show(2000,false) "
    },
    {
      "cell_type": "code",
      "execution_count": 9,
      "metadata": {
        "autoscroll": "auto"
      },
      "outputs": [],
      "source": "%spark\n// Gráfica para saber cuantas páginas son de phishing y cuales no lo son\nval phishingPages \u003d data.select($\"label\")\n.groupBy($\"label\".as(\"Legítima\"))\n.agg(count(\"*\").as(\"Total\"))\n\n\nz.show(phishingPages)"
    },
    {
      "cell_type": "markdown",
      "metadata": {},
      "source": "# Consultas en base a las preguntas\nLas siguientes consultas tienen como objetivo responder a las preguntas planteadas previamente."
    },
    {
      "cell_type": "code",
      "execution_count": 11,
      "metadata": {
        "autoscroll": "auto"
      },
      "outputs": [],
      "source": "%spark\n// ¿Cuáles son los cinco dominios más recurrentes en el dataset?\nval fiveDomains \u003d data.select($\"domain\").groupBy($\"domain\")\n.agg(count($\"domain\").as(\"Total dominios\"))\n.orderBy($\"Total dominios\".desc)\n.limit(5)\n\nz.show(fiveDomains)"
    },
    {
      "cell_type": "code",
      "execution_count": 12,
      "metadata": {
        "autoscroll": "auto"
      },
      "outputs": [],
      "source": "%spark\n// ¿Cuáles son los factores más comunes en las páginas consideradas como phishing?\nval dangerousPages \u003d data.select($\"URL\", $\"label\", $\"NoOfURLRedirect\", $\"Crypto\", $\"HasCopyrightInfo\", $\"IsHTTPS\")\n.where($\"NoOfURLRedirect\" \u003e 0)\n.where($\"Crypto\" \u003d\u003d\u003d 1)\n.where($\"HasCopyrightInfo\" \u003d\u003d\u003d 0)\n.where($\"IsHTTPS\" \u003d\u003d\u003d 0)\n\n\nz.show(dangerousPages)\n\n\n\n\n\n"
    },
    {
      "cell_type": "code",
      "execution_count": 13,
      "metadata": {
        "autoscroll": "auto"
      },
      "outputs": [],
      "source": "%spark\n//¿Cuántas páginas de cada tipo de complejidad de URL existen dentro del dataset?\nval dataUrlComplexity \u003d dataWithComplexityUrl.select($\"URL\", $\"UrlComplexity\")\n.groupBy($\"UrlComplexity\")\n.agg(count($\"UrlComplexity\").as(\"Total de páginas\"))\n.orderBy($\"Total de páginas\".desc)\n\nz.show(dataUrlComplexity)\n"
    },
    {
      "cell_type": "code",
      "execution_count": 14,
      "metadata": {
        "autoscroll": "auto"
      },
      "outputs": [],
      "source": "%spark\n//¿Cuáles son los cinco dominios con más seguridad basados en la columna derivada? \nval highSecurityDomains \u003d dataWithSecurity.select($\"SecurityCategory\", $\"Domain\")\n.where($\"SecurityCategory\" \u003d\u003d\u003d \"HIGH\")\n.groupBy($\"SecurityCategory\", $\"Domain\")\n.agg(count(\"*\").as(\"Dominios totales\"))\n.where($\"Dominios totales\" \u003e 10)\n.orderBy($\"Dominios totales\".desc)\n\nz.show(highSecurityDomains)"
    },
    {
      "cell_type": "code",
      "execution_count": 15,
      "metadata": {
        "autoscroll": "auto"
      },
      "outputs": [],
      "source": "%spark\n//¿Cuántas páginas con dominio ‘ec’ existen dentro del dataset y que porcentaje de estas con consideradas como ‘phishing’? \n\nval ecuadorDomains \u003d data.select($\"label\".as(\"legitima\")) \n  .where(col(\"Domain\").endsWith(\".ec\")) \n  .groupBy($\"legitima\")\n  .agg(count(\"*\").as(\"Total dominios .ec\"))\n  \n  z.show(ecuadorDomains)"
    },
    {
      "cell_type": "code",
      "execution_count": 16,
      "metadata": {
        "autoscroll": "auto"
      },
      "outputs": [],
      "source": "%spark\ndata.count()"
    },
    {
      "cell_type": "code",
      "execution_count": 17,
      "metadata": {
        "autoscroll": "auto"
      },
      "outputs": [],
      "source": "%spark\n"
    }
  ]
}