﻿{
  "metadata": {
    "name": "Proyecto programación week14",
    "kernelspec": {
      "language": "scala",
      "name": "spark2-scala"
    },
    "language_info": {
      "codemirror_mode": "text/x-scala",
      "file_extension": ".scala",
      "mimetype": "text/x-scala",
      "name": "scala",
      "pygments_lexer": "scala"
    }
  },
  "nbformat": 4,
  "nbformat_minor": 2,
  "cells": [
    {
      "cell_type": "code",
      "execution_count": 0,
      "metadata": {
        "autoscroll": "auto"
      },
      "outputs": [],
      "source": "%spark\n\nimport org.apache.spark.sql.types.StringType\nimport org.apache.spark.sql.functions._\nspark.conf.set(\"spark.sql.legacy.allowUntypedScalaUDF\", \"true\")\n\nval data \u003d spark\n.read\n.option(\"inferSchema\", \"true\")\n.option(\"header\", \"true\")\n.option(\"delimiter\", \",\")\n.csv(\"/home/carlos/Descargas/PhiUSIIL_Phishing_URL_Dataset.csv\")"
    },
    {
      "cell_type": "code",
      "execution_count": 1,
      "metadata": {
        "autoscroll": "auto"
      },
      "outputs": [],
      "source": "%spark\ndata.printSchema()"
    },
    {
      "cell_type": "code",
      "execution_count": 2,
      "metadata": {
        "autoscroll": "auto"
      },
      "outputs": [],
      "source": "%spark\n/*\nSecurity Score:\nSI ES MAYOR O IGUAL A 5  Puntuación alta, muy seguro\nSI ES ENTRE 0 Y 5    Puntuación media, razonablemente seguro\nSI ES ENTRE -5 Y 0  Puntuación baja, algo sospechoso\nSI ES MENOR QUE -5  Puntuación muy baja, altamente sospechoso\n*/\ndef getSecurityCategory(\n    IsHTTPS: Int,\n    HasTitle: Int,\n    Robots: Int,\n    HasCopyrightInfo: Int,\n    HasObfuscation: Int,\n    NoOfURLRedirect: Int,\n    NoOfPopup: Int,\n    NoOfiFrame: Int,\n    HasExternalFormSubmit: Int,\n    HasPasswordField: Int,\n    Bank: Int,\n    Pay: Int,\n    Crypto: Int,\n    URLCharProb: Double,\n    URLLength: Int,\n    NoOfSubDomain: Int\n): String \u003d {\n\n    var score \u003d 0 \n\n    // Características que suman puntos a favor\n    if (IsHTTPS \u003d\u003d 1) score +\u003d 3\n    if (HasTitle \u003d\u003d 1) score +\u003d 2\n    if (Robots \u003d\u003d 1) score +\u003d 1\n    if (HasCopyrightInfo \u003d\u003d 1) score +\u003d 3\n\n    // Características que restan puntos a favor\n    if (HasObfuscation \u003d\u003d 1) score -\u003d 2\n    if (NoOfURLRedirect \u003e 0) score -\u003d 2\n    if (NoOfPopup \u003e 0) score -\u003d 3\n    if (NoOfiFrame \u003e 0) score -\u003d 1\n    if (HasExternalFormSubmit \u003d\u003d 1) score -\u003d 2\n    if (HasPasswordField \u003d\u003d 0 \u0026\u0026 (Bank \u003d\u003d 1 || Pay \u003d\u003d 1 || Crypto \u003d\u003d 1)) score -\u003d 4 // Si no necesita password, pero si banco, pago o cripto, restar varios puntos\n    if (URLCharProb \u003c 0.5) score -\u003d 2\n\n    // COnsideraciones mínimas que restan puntos a favor.\n    if (URLLength \u003e 100) score -\u003d 1\n    if (NoOfSubDomain \u003e 3) score -\u003d 1\n\n    // Definir los rangos y retornar la categoría\n    score match {\n        case s if s \u003e\u003d 5 \u003d\u003e \"HIGH\"       \n        case s if s \u003e\u003d 0 \u0026\u0026 s \u003c 5 \u003d\u003e \"MEDIUM\"   \n        case s if s \u003e\u003d -5 \u0026\u0026 s \u003c 0 \u003d\u003e \"LOW\"     \n        case s if s \u003c -5 \u003d\u003e \"VERY LOW\"   \n        case _ \u003d\u003e \"UNDEFINED\"              \n    }\n}\n\n// Crear función UDF para que pueda ser usada en cada iteración: \nval getSecurityCategoryUdf \u003d udf(getSecurityCategory(\n    _: Int, _: Int, _: Int, _: Int, _: Int, _: Int, _: Int, _: Int,\n    _: Int, _: Int, _: Int, _: Int, _: Int, _: Double, _: Int, _: Int\n), StringType)"
    },
    {
      "cell_type": "code",
      "execution_count": 3,
      "metadata": {
        "autoscroll": "auto"
      },
      "outputs": [],
      "source": "%spark\n// Función para calcular la complejidad de la URL\n/*\nvar complexityScore \u003d 0.0\n\n// Ponderar diferentes aspectos de la complejidad\ncomplexityScore +\u003d NoOfSubDomain * 1.5 // Más subdominios, más complejo\ncomplexityScore +\u003d URLLength * 0.1     // URLs más largas, más complejas\ncomplexityScore +\u003d NoOfOtherSpecialCharsInURL * 1.0 // Más caracteres especiales, más complejo\ncomplexityScore +\u003d SpacialCharRatioInURL * 5.0 // Un ratio alto de caracteres especiales indica complejidad\n\n1. Simple\nRango: complexityScore \u003c 10\n\nJustificación: URLs muy cortas, con pocos o ningún subdominio, y sin caracteres especiales inusuales. Piensa en sitios web muy directos como google.com o example.org/about. La puntuación es baja porque los multiplicadores de longitud y caracteres especiales serían mínimos.\n\n2. Medium\nRango: 10 \u003c\u003d complexityScore \u003c 30\n\nJustificación: Incluye URLs de longitud moderada, con quizás uno o dos subdominios, y una presencia limitada de caracteres especiales. Por ejemplo, blog.example.com/category/article-title-123. Estas URLs son comunes y no suelen levantar sospechas solo por su estructura.\n\n3. Complex\nRango: 30 \u003c\u003d complexityScore \u003c 60\n\nJustificación: Aquí empezamos a ver URLs más largas, con varios subdominios (3+), o una cantidad notable de caracteres especiales (?, \u0026, #, etc.) que indican parámetros complejos o estructuras de ruta elaboradas. Un ejemplo podría ser app.secure.data.example.com/dashboard?param1\u003dvalue\u0026id\u003d12345. URLs de este tipo pueden ser legítimas pero ya tienen una estructura que es un poco más difícil de \"leer\" a simple vista.\n\n4. Very Complex\nRango: complexityScore \u003e\u003d 60\n\nJustificación: Estas serían URLs extremadamente largas, con una gran cantidad de subdominios, o un uso excesivo de caracteres especiales y codificación. Este tipo de URLs a menudo se asocian con intentos de phishing o con la ofuscación para ocultar el destino real de un enlace. Por ejemplo, URLs generadas automáticamente con muchos parámetros de seguimiento o URLs con múltiples redirecciones y cadenas de caracteres codificadas.\n\n*/\ndef getUrlComplexity(NoOfSubDomain : Int, URLLength : Int, NoOfOtherSpecialCharsInURL : Int, SpacialCharRatioInURL : Double) : String \u003d {\n    val complexityScore \u003d (NoOfSubDomain * 1.5) + (URLLength * 0.1) + (NoOfOtherSpecialCharsInURL * 1.0) + (SpacialCharRatioInURL * 5.0)\n     complexityScore match {\n        case score if score \u003c 10 \u003d\u003e \"SIMPLE\"\n        case score if score \u003c 30 \u003d\u003e \"MEDIUM\"\n        case score if score \u003c 60 \u003d\u003e \"COMPLEX\"\n        case score if score \u003e\u003d 60 \u003d\u003e \"VERY COMPLEX\"\n        case _ \u003d\u003e \"UNDEFINED\" \n    }\n    \n}\n\n//Función UDF para que pueda ser usada en cada iteración\n\nval getUrlComplexityUdf \u003d udf(getUrlComplexity(\n    _: Int, _: Int, _: Int, _: Double), StringType)\n\n\n"
    },
    {
      "cell_type": "code",
      "execution_count": 4,
      "metadata": {
        "autoscroll": "auto"
      },
      "outputs": [],
      "source": "%spark\n/*\nCONTENT PRESENCE RATIO:\n// Inicializar el ratio\nvar contentRatio \u003d 0.0\n\nval totalContentElements \u003d NoOfImage + NoOfCSS + NoOfJS\n\nif (LineOfCode \u003e 0) {\n    contentRatio \u003d totalContentElements.toDouble / LineOfCode.toDouble\n} else {\n    contentRatio \u003d 0.0 // Evitar división por cero\n}\n\n// Si tiene título, podría sumar un poco más al ratio de contenido percibido\nif (HasTitle \u003d\u003d 1) {\n    contentRatio +\u003d 0.1 // Pequeño incremento si tiene título\n}\n\nLOW Content Presence Ratio\nRango Sugerido: contentRatio \u003c 0.2\n\nInferencias:\n\nPáginas muy básicas o \"vacías\": Este rango sugiere que la página tiene muy pocas imágenes, CSS o JavaScript en relación con sus líneas de código, o incluso que LineOfCode es bajo y aún así no hay mucho contenido.\n\nSitios de phishing rudimentarios: Muchos sitios de phishing son plantillas muy simples, con poco diseño y funcionalidad, enfocados únicamente en la captura de credenciales. No invierten en mucho CSS, JS o imágenes complejas.\n\nPáginas de error o redirección: Podrían ser páginas de error genéricas o redirecciones que no cargan mucho contenido antes de enviar al usuario a otro lugar.\n\nContenido puramente textual: Podrían ser páginas con solo texto, sin elementos multimedia o de estilo. Esto es menos común en sitios web modernos legítimos que buscan interacción.\n\n2. MEDIUM Content Presence Ratio\nRango Sugerido: 0.2 \u003c\u003d contentRatio \u003c 0.6\n\nInferencias:\n\nSitios web funcionales pero no complejos: Estas URLs probablemente apuntan a páginas con un diseño decente, algunas imágenes, hojas de estilo básicas y scripts. Son páginas que tienen una funcionalidad clara sin ser visualmente abrumadoras o excesivamente interactivas.\n\nPáginas legítimas promedio: Muchas páginas de blogs, artículos, o tiendas en línea con un diseño estándar podrían caer en esta categoría. Tienen los elementos necesarios para una buena experiencia de usuario, pero no son aplicaciones web pesadas.\n\nPhishing más sofisticado: Algunos sitios de phishing más avanzados pueden intentar replicar la apariencia de un sitio legítimo, por lo que podrían tener un ratio en este rango para parecer más creíbles.\n\n3. HIGH Content Presence Ratio\nRango Sugerido: contentRatio \u003e\u003d 0.6\n\nInferencias:\n\nSitios web ricos en contenido y funcionalidad: Este rango indica una fuerte presencia de elementos visuales (imágenes), estilos (CSS complejos) y interactividad (JavaScript significativo). Piensa en aplicaciones web, portales multimedia, o tiendas en línea con muchas imágenes de productos y características interactivas.\n\nPáginas legítimas y bien desarrolladas: Es muy probable que estas URLs correspondan a sitios legítimos que han invertido en su diseño y experiencia de usuario.\n\nPáginas de destino multimedia: Si la página es una galería de imágenes, un reproductor de video o un juego online, el ratio será alto debido a la cantidad de recursos.\n\n\n\n*/\n\ndef getPresenceRatio(NoOfImage : Int, NoOfCSS : Int, NoOfJS : Int, LineOfCode : Int) : String \u003d {\n    \nval totalContentElements \u003d NoOfImage + NoOfCSS + NoOfJS\nval contentRatio \u003d if (LineOfCode \u003e 0) {\n    totalContentElements.toDouble / LineOfCode.toDouble \n}else{\n    0.0\n} \n\n  contentRatio match {\n        case ratio if ratio \u003c 0.05 \u003d\u003e \"VERY LOW\"\n        case ratio if ratio \u003c 0.2 \u003d\u003e \"LOW\"\n        case ratio if ratio \u003c 0.6 \u003d\u003e \"MEDIUM\"\n        case ratio if ratio \u003e\u003d 0.6 \u003d\u003e \"HIGH\"\n        case _ \u003d\u003e \"UNDEFINED\" \n    }\n\n}\n\n//Función UDF para que pueda ser usada en cada iteración\n\nval getPresenceRatioUdf \u003d udf(getPresenceRatio(\n    _: Int, _: Int, _: Int, _: Int), StringType)"
    },
    {
      "cell_type": "code",
      "execution_count": 5,
      "metadata": {
        "autoscroll": "auto"
      },
      "outputs": [],
      "source": "%spark\n/*\nPoblar la tabla con SecurityScore\n*/\nval dataWithSecurity \u003d data.withColumn(\n    \"SecurityCategory\",\n    getSecurityCategoryUdf(\n        col(\"IsHTTPS\"),\n        col(\"HasTitle\"),\n        col(\"Robots\"),\n        col(\"HasCopyrightInfo\"),\n        col(\"HasObfuscation\"),\n        col(\"NoOfURLRedirect\"),\n        col(\"NoOfPopup\"),\n        col(\"NoOfiFrame\"),\n        col(\"HasExternalFormSubmit\"),\n        col(\"HasPasswordField\"),\n        col(\"Bank\"),\n        col(\"Pay\"),\n        col(\"Crypto\"),\n        col(\"URLCharProb\"),\n        col(\"URLLength\"),\n        col(\"NoOfSubDomain\")\n    )\n)\n\ndataWithSecurity.select($\"URL\", $\"SecurityCategory\").where($\"SecurityCategory\" \u003d\u003d\u003d \"VERY LOW\").count"
    },
    {
      "cell_type": "code",
      "execution_count": 6,
      "metadata": {
        "autoscroll": "auto"
      },
      "outputs": [],
      "source": "%spark\n/*\nPoblar la tabla con URL complexity:\n*/\n\nval dataWithComplexityUrl \u003d data.withColumn(\n    \"UrlComplexity\",\n    getUrlComplexityUdf(\n        col(\"NoOfSubDomain\"),\n        col(\"URLLength\"),\n        col(\"NoOfOtherSpecialCharsInURL\"),\n        col(\"SpacialCharRatioInURL\"),\n    )\n)\n\ndataWithComplexityUrl.select($\"URL\", $\"UrlComplexity\").where($\"UrlComplexity\" \u003d\u003d\u003d \"VERY COMPLEX\").count"
    },
    {
      "cell_type": "code",
      "execution_count": 7,
      "metadata": {
        "autoscroll": "auto"
      },
      "outputs": [],
      "source": "%spark\n/*\nPoblar la tabla con presencia de contenido\n*/\nval dataWithPresenceRatio \u003d data.withColumn(\n    \"PresenceRatio\",\n    getPresenceRatioUdf(\n        col(\"NoOfImage\"),\n        col(\"NoOfCSS\"),\n        col(\"NoOfJS\"),\n        col(\"LineOfCode\"),\n    )\n)\n\n\ndataWithPresenceRatio.select($\"URL\", $\"PresenceRatio\").where($\"PresenceRatio\" \u003d\u003d\u003d \"MEDIUM\").show(false)\n"
    },
    {
      "cell_type": "code",
      "execution_count": 8,
      "metadata": {
        "autoscroll": "auto"
      },
      "outputs": [],
      "source": "%spark\ndata.count()"
    },
    {
      "cell_type": "code",
      "execution_count": 9,
      "metadata": {
        "autoscroll": "auto"
      },
      "outputs": [],
      "source": "%spark\n"
    }
  ]
}